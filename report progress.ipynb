{
 "cells": [
  {
   "cell_type": "code",
   "execution_count": 23,
   "id": "configured-fraction",
   "metadata": {},
   "outputs": [],
   "source": [
    "from helper_functions import *\n",
    "from IPython.display import Image\n"
   ]
  },
  {
   "cell_type": "code",
   "execution_count": null,
   "id": "nominated-repeat",
   "metadata": {},
   "outputs": [],
   "source": []
  },
  {
   "cell_type": "markdown",
   "id": "applied-underground",
   "metadata": {},
   "source": [
    "Aim : To implement the algorithm found in this paper : https://arxiv.org/abs/2012.13453"
   ]
  },
  {
   "cell_type": "markdown",
   "id": "embedded-producer",
   "metadata": {},
   "source": [
    "Overview of the paper : Use of evolutionary algorithm to minimize the cost function so as to estimate the ground state for a model. The evolutionary algorithm part involves inserting/deleting/modifying quantum gates at random locations in the quantum circuit."
   ]
  },
  {
   "cell_type": "code",
   "execution_count": null,
   "id": "architectural-terminal",
   "metadata": {},
   "outputs": [],
   "source": []
  },
  {
   "cell_type": "markdown",
   "id": "suburban-stress",
   "metadata": {},
   "source": [
    "In practice, Variational Quantum Eigensolvers (VQEs) suffer from the large quantum computational overhead in estimating cost function gradients for large parameter sets. Here, we consider weight-agnostic learning and investigate the use of evolutionary algorithms which first spawn circuit’s offspring and then evaluate them via genetic competition, thus circumventing some of the previous issues common to parameter-based approaches. We use our methods to solve the transverse field Ising Hamiltonian and the Sherrington-Kirkpatrick spin model.\n"
   ]
  },
  {
   "cell_type": "markdown",
   "id": "modern-option",
   "metadata": {},
   "source": []
  },
  {
   "cell_type": "markdown",
   "id": "orange-screen",
   "metadata": {},
   "source": [
    "Following figure shows the outline of evolutionary circuit discovery: Starting with a random initial parent with known loss value, we create copies and mutate them using our custom mutation strategy using operations as shown on the right side of the image. The offspring population is then evaluated on the quantum machine. The circuit with lowest loss value (the original parent included) becomes the parent circuit of the next generation. This procedure is repeated until an appropriate convergence criterion is satisfied. "
   ]
  },
  {
   "cell_type": "markdown",
   "id": "superb-corruption",
   "metadata": {},
   "source": [
    "![title](images/5.png)"
   ]
  },
  {
   "cell_type": "code",
   "execution_count": null,
   "id": "pleasant-clone",
   "metadata": {},
   "outputs": [],
   "source": []
  },
  {
   "cell_type": "markdown",
   "id": "pending-interim",
   "metadata": {},
   "source": [
    "The mutation performs one of 4 actions with certain probabilities, we show these on the right side of above image. <br>\n",
    "INSERT: Add random gate at random position; <br>\n",
    "DELETE: Delete gate at random position; <br>\n",
    "SWAP: Replace gate at random position with random new gate; <br>\n",
    "MODIFY: Change parameter of gate at random position.<br>\n",
    "\n",
    "\n"
   ]
  },
  {
   "cell_type": "code",
   "execution_count": null,
   "id": "rocky-cameroon",
   "metadata": {},
   "outputs": [],
   "source": []
  },
  {
   "cell_type": "code",
   "execution_count": null,
   "id": "opened-convert",
   "metadata": {},
   "outputs": [],
   "source": []
  },
  {
   "cell_type": "markdown",
   "id": "frozen-ottawa",
   "metadata": {},
   "source": []
  },
  {
   "cell_type": "code",
   "execution_count": null,
   "id": "statewide-playing",
   "metadata": {},
   "outputs": [],
   "source": []
  },
  {
   "cell_type": "code",
   "execution_count": null,
   "id": "oriented-edinburgh",
   "metadata": {},
   "outputs": [],
   "source": [
    "#![title](images/6.png)"
   ]
  },
  {
   "cell_type": "markdown",
   "id": "brilliant-prompt",
   "metadata": {},
   "source": [
    "![title](images/6.png)"
   ]
  },
  {
   "cell_type": "markdown",
   "id": "cognitive-characteristic",
   "metadata": {},
   "source": [
    "The above figure shows circuit diagram of the gradual evolution of the circuit architecture for the transverse field Ising Hamiltonian, (Left) after 10 generations and (Right) after 150 generations. <br>\n",
    "The notation Ri represents a rotation gate wrt axis i (for the purpose of clarity the explicit rotation’s angles are omitted). Note that gates spanning multiple qubits are only applied to the upper- and lowermost qubit. Note that by generation 150 some previously present gates with redundant parameters are removed. Moreover, the circuit generally reflects intelligence in its design and indeed is nicely aligned with the expected useful set of gates for the TFI problem.\n"
   ]
  },
  {
   "cell_type": "code",
   "execution_count": null,
   "id": "joined-lender",
   "metadata": {},
   "outputs": [],
   "source": []
  },
  {
   "cell_type": "code",
   "execution_count": null,
   "id": "radio-jacket",
   "metadata": {},
   "outputs": [],
   "source": []
  },
  {
   "cell_type": "markdown",
   "id": "positive-reader",
   "metadata": {},
   "source": [
    "To implement the evolution, at each generation, we maintain a variable called \"current_circuit\" which contains the current state of circuit in special format. <br>\n",
    "The format is: <br>\n",
    "   "
   ]
  },
  {
   "cell_type": "markdown",
   "id": "occupied-george",
   "metadata": {},
   "source": [
    "current_circuit = \\[ [gates_of_qubit0], [gates_of_qubit1], [gates_of_qubit2], [gates_of_qubit3], ...., [gates_of_qubit8], [gates_of_qubit9] \\] <br>\n",
    "where \"gates_of_qubitn\" is a list of gates (in correct order) that are applied to qubit n <br>\n",
    "Ex:\n",
    "        If <br>\n",
    "        0th qubit has Ry, <br>\n",
    "        1st qubit has Rx and then  Ry, <br>\n",
    "        2nd qubit has Rxx, <br>\n",
    "        3rd qubit has Ryy and then  Rzz and then Rx, <br>\n",
    "        4th qubit has Rxx and then  Ry, <br>\n",
    "        5th qubit has Rzz, <br>\n",
    "        6th qubit has no gate, <br>\n",
    "        7th qubit has Rx and then  Rz, <br>\n",
    "        8th qubit has Ryy, <br>\n",
    "        9th qubit has Ry, <br>\n",
    "        \n",
    "Then,\n"
   ]
  },
  {
   "cell_type": "code",
   "execution_count": 13,
   "id": "gothic-length",
   "metadata": {},
   "outputs": [],
   "source": [
    "current_circuit = [[['Ry', 1.2]], \n",
    " [['Rx', 6.1], ['Ry', 3.9]], \n",
    " [['Rxx', 3.3, 4, 0]], \n",
    " [['Ryy', 6.1, 8, 0], ['Rzz', 4.1, 5, 0], ['Rx', 5.7]], \n",
    " [['Rxx', 3.3, 2, 0], ['Ry', 1.5]],\n",
    " [['Rzz', 4.1, 3, 1]], \n",
    " [],\n",
    " [['Rx', 0.9], ['Rz', 4.4]],\n",
    " [['Ryy', 6.1, 3, 0]],\n",
    " [['Ry', 4.2]]]"
   ]
  },
  {
   "cell_type": "markdown",
   "id": "third-hypothetical",
   "metadata": {},
   "source": [
    "Each gate is defined as: <br>  <br>\n",
    "If single gate, \\[ \"Gate type\" , \"Gate Argument\" \\] <br> For ex: \\['Ry', 4.2\\] <br> <br>\n",
    "If double gate, \\[ \"Gate type\" , \"Gate Argument\", \"Qubit no. of the other qubit\" , \"Index where this gate is applied to other qubit\" \\] <br> For ex: \\['Rzz', 4.1, 3, 1\\] <br>"
   ]
  },
  {
   "cell_type": "code",
   "execution_count": null,
   "id": "latter-premises",
   "metadata": {},
   "outputs": [],
   "source": []
  },
  {
   "cell_type": "markdown",
   "id": "suburban-subdivision",
   "metadata": {},
   "source": [
    "Now let's try to use these 4 functions - Insert, Delete, Swap, Modify"
   ]
  },
  {
   "cell_type": "markdown",
   "id": "suburban-administration",
   "metadata": {},
   "source": [
    "We start with an empty circuit"
   ]
  },
  {
   "cell_type": "code",
   "execution_count": 43,
   "id": "compact-video",
   "metadata": {},
   "outputs": [
    {
     "data": {
      "image/png": "[encoded data removed]",
      "text/plain": [
       "<Figure size 130.441x626.08 with 1 Axes>"
      ]
     },
     "execution_count": 43,
     "metadata": {},
     "output_type": "execute_result"
    }
   ],
   "source": [
    "current_circuit=[[] for i in range(10)]\n",
    "qiskit_circuit=get_circuit(current_circuit)\n",
    "qiskit_circuit.draw(initial_state=True, output=\"mpl\")"
   ]
  },
  {
   "cell_type": "code",
   "execution_count": null,
   "id": "compliant-optics",
   "metadata": {},
   "outputs": [],
   "source": []
  },
  {
   "cell_type": "markdown",
   "id": "coordinated-juice",
   "metadata": {},
   "source": [
    "We now apply insert function to this circuit"
   ]
  },
  {
   "cell_type": "code",
   "execution_count": 44,
   "id": "prescribed-prayer",
   "metadata": {},
   "outputs": [
    {
     "data": {
      "image/png": "[encoded data removed]",
      "text/plain": [
       "<Figure size 190.641x626.08 with 1 Axes>"
      ]
     },
     "execution_count": 44,
     "metadata": {},
     "output_type": "execute_result"
    }
   ],
   "source": [
    "current_circuit=insert(current_circuit)\n",
    "qiskit_circuit=get_circuit(current_circuit)\n",
    "qiskit_circuit.draw(initial_state=True, output=\"mpl\")"
   ]
  },
  {
   "cell_type": "code",
   "execution_count": null,
   "id": "executed-private",
   "metadata": {},
   "outputs": [],
   "source": []
  },
  {
   "cell_type": "markdown",
   "id": "unusual-bench",
   "metadata": {},
   "source": [
    "Let's now apply insert function multiple times to add more gates"
   ]
  },
  {
   "cell_type": "code",
   "execution_count": 45,
   "id": "grateful-chrome",
   "metadata": {},
   "outputs": [
    {
     "data": {
      "image/png": "[encoded data removed]",
      "text/plain": [
       "<Figure size 371.241x626.08 with 1 Axes>"
      ]
     },
     "execution_count": 45,
     "metadata": {},
     "output_type": "execute_result"
    }
   ],
   "source": [
    "current_circuit=insert(current_circuit)\n",
    "current_circuit=insert(current_circuit)\n",
    "current_circuit=insert(current_circuit)\n",
    "current_circuit=insert(current_circuit)\n",
    "qiskit_circuit=get_circuit(current_circuit)\n",
    "qiskit_circuit.draw(initial_state=True, output=\"mpl\")"
   ]
  },
  {
   "cell_type": "code",
   "execution_count": null,
   "id": "civic-breathing",
   "metadata": {},
   "outputs": [],
   "source": []
  },
  {
   "cell_type": "markdown",
   "id": "infinite-industry",
   "metadata": {},
   "source": [
    "We now apply delete function to this circuit"
   ]
  },
  {
   "cell_type": "code",
   "execution_count": 46,
   "id": "vertical-possession",
   "metadata": {},
   "outputs": [
    {
     "data": {
      "image/png": "[encoded data removed]",
      "text/plain": [
       "<Figure size 371.241x626.08 with 1 Axes>"
      ]
     },
     "execution_count": 46,
     "metadata": {},
     "output_type": "execute_result"
    }
   ],
   "source": [
    "current_circuit=delete(current_circuit)\n",
    "qiskit_circuit=get_circuit(current_circuit)\n",
    "qiskit_circuit.draw(initial_state=True, output=\"mpl\")"
   ]
  },
  {
   "cell_type": "markdown",
   "id": "creative-disability",
   "metadata": {},
   "source": [
    "We see that the Rz gate (on qubit 4) gets removed by the delete operation"
   ]
  },
  {
   "cell_type": "code",
   "execution_count": null,
   "id": "attended-accent",
   "metadata": {},
   "outputs": [],
   "source": []
  },
  {
   "cell_type": "markdown",
   "id": "changed-walker",
   "metadata": {},
   "source": [
    "We now apply swap function to this circuit"
   ]
  },
  {
   "cell_type": "code",
   "execution_count": 47,
   "id": "maritime-twins",
   "metadata": {},
   "outputs": [
    {
     "data": {
      "image/png": "[encoded data removed]",
      "text/plain": [
       "<Figure size 311.041x626.08 with 1 Axes>"
      ]
     },
     "execution_count": 47,
     "metadata": {},
     "output_type": "execute_result"
    }
   ],
   "source": [
    "current_circuit=swap(current_circuit)\n",
    "qiskit_circuit=get_circuit(current_circuit)\n",
    "qiskit_circuit.draw(initial_state=True, output=\"mpl\")"
   ]
  },
  {
   "cell_type": "markdown",
   "id": "combined-scheme",
   "metadata": {},
   "source": [
    "We see that the Rzz gate (between qubits 2 and 3) gets swapped by the Rxx gate"
   ]
  },
  {
   "cell_type": "code",
   "execution_count": null,
   "id": "yellow-progressive",
   "metadata": {},
   "outputs": [],
   "source": []
  },
  {
   "cell_type": "markdown",
   "id": "accomplished-coating",
   "metadata": {},
   "source": [
    "We now apply mopdify function to this circuit"
   ]
  },
  {
   "cell_type": "code",
   "execution_count": 49,
   "id": "freelance-weekend",
   "metadata": {},
   "outputs": [
    {
     "data": {
      "image/png": "[encoded data removed]",
      "text/plain": [
       "<Figure size 311.041x626.08 with 1 Axes>"
      ]
     },
     "execution_count": 49,
     "metadata": {},
     "output_type": "execute_result"
    }
   ],
   "source": [
    "current_circuit=modify(current_circuit)\n",
    "qiskit_circuit=get_circuit(current_circuit)\n",
    "qiskit_circuit.draw(initial_state=True, output=\"mpl\")"
   ]
  },
  {
   "cell_type": "markdown",
   "id": "juvenile-england",
   "metadata": {},
   "source": [
    "We see that the Ry gate (on qubit 9) gets its parameter changed from 2.33 to 2.15"
   ]
  },
  {
   "cell_type": "code",
   "execution_count": null,
   "id": "transsexual-myanmar",
   "metadata": {},
   "outputs": [],
   "source": []
  },
  {
   "cell_type": "code",
   "execution_count": null,
   "id": "meaning-complex",
   "metadata": {},
   "outputs": [],
   "source": []
  },
  {
   "cell_type": "markdown",
   "id": "collective-eclipse",
   "metadata": {},
   "source": [
    "Evolutionary algorithms (EA) iteratively work with a population of solution candidates, and optimization is carried out over a number of generations. In each generation, μ candidates that constitute the parent population produce an offspring population of λ candidates by means of crossover and mutation; these operations are specific to the problem domain at hand."
   ]
  },
  {
   "cell_type": "markdown",
   "id": "second-prisoner",
   "metadata": {},
   "source": [
    "In our application, candidates are quantum circuits, and mutations cause small changes to the\n",
    "circuit, such as addition or removal of a gate, or nudging of a gate’s parameter. The newly obtained\n",
    "offspring candidates are evaluated with respect to the loss function and sorted into the\n",
    "parent population, replacing parents with higher loss value. This selection step emulates natural\n",
    "selection in biology, where better adapted individuals survive. \n"
   ]
  },
  {
   "cell_type": "markdown",
   "id": "hollywood-arrow",
   "metadata": {},
   "source": [
    "As the parent population is maintained during selection, the best individual that was ever observed since the first generation always survives. This property is known as elitism and ensures that the overall best loss value always monotonically decreases over time. The μ best candidates proceed to form the parent population of the next generation. If none of the offspring individuals yields an improvement, the original parent population carries over to the next generation unchanged. This EA scheme is known in literature as a (μ + λ) EA and is among the most representative and best-understood evolutionary optimization strategies."
   ]
  },
  {
   "cell_type": "code",
   "execution_count": null,
   "id": "distinguished-workplace",
   "metadata": {},
   "outputs": [],
   "source": [
    "#\\\\( U_c \\: \\epsilon \\: \\mu \\\\)"
   ]
  },
  {
   "cell_type": "markdown",
   "id": "consecutive-raise",
   "metadata": {},
   "source": [
    "Using an evolutionary algorithm we attempt to find a circuit \\\\( U_c \\: \\epsilon \\: \\mu \\\\) , which performs best with respect to some cost function f. <br>\n",
    "Every circuit \\\\( U_c \\\\) is a product of unitary matrices such that \\\\( U_c \\: = \\Sigma _i \\: U_i \\\\) , each of which is defined by generator and a parameter pair ( \\\\( g_i , \\theta _i \\\\) ) , i.e."
   ]
  },
  {
   "cell_type": "markdown",
   "id": "agricultural-motion",
   "metadata": {},
   "source": [
    "![title](images/7.png)"
   ]
  },
  {
   "cell_type": "markdown",
   "id": "nasty-dietary",
   "metadata": {},
   "source": [
    "In this notation \\\\( g_i \\\\) denotes an element of a set of Pauli-generators G for experiments chosen to be"
   ]
  },
  {
   "cell_type": "markdown",
   "id": "double-legend",
   "metadata": {},
   "source": [
    "![title](images/8.png)"
   ]
  },
  {
   "cell_type": "markdown",
   "id": "fiscal-cookie",
   "metadata": {},
   "source": [
    "with \\\\( \\mu \\: \\epsilon \\: \\{x,y,z\\} \\\\) and  \\\\(i \\neq j \\\\) and \\\\( 1 \\: \\leq i,j  \\: \\leq n \\\\)"
   ]
  },
  {
   "cell_type": "code",
   "execution_count": null,
   "id": "occupied-memorabilia",
   "metadata": {},
   "outputs": [],
   "source": []
  },
  {
   "cell_type": "markdown",
   "id": "democratic-providence",
   "metadata": {},
   "source": [
    "For each circuit there is an associated value defined by the expectation with respect to some target Hamiltonian H, <br> written in density matrix formulation with | \\\\( \\psi _0  \\\\) > as initial state:\n"
   ]
  },
  {
   "cell_type": "markdown",
   "id": "alone-danish",
   "metadata": {},
   "source": [
    "![title](images/9.png)"
   ]
  },
  {
   "cell_type": "code",
   "execution_count": null,
   "id": "incorrect-verification",
   "metadata": {},
   "outputs": [],
   "source": []
  },
  {
   "cell_type": "markdown",
   "id": "quantitative-search",
   "metadata": {},
   "source": [
    "Finding a circuit \\\\( U_opt \\\\) which minimizes \\\\( f \\\\) is an optimization task over the search space \\\\( \\mu \\\\). This\n",
    "space \\\\( \\mu \\\\) is defined through a mix of discrete and continous values, namely generators \\\\( g_i \\\\) and qubit\n",
    "indices and parameters \\\\( \\theta _i \\\\), respectively. While traditional gradient methods can optimize only the\n",
    "real-valued parameters \\\\( \\theta _i \\\\) on fixed circuit layouts, they cannot learn the overall circuit structure,\n",
    "because the existence or non-existence of a gate, for instance, is not differentiable.\n"
   ]
  },
  {
   "cell_type": "code",
   "execution_count": null,
   "id": "sharp-qatar",
   "metadata": {},
   "outputs": [],
   "source": []
  },
  {
   "cell_type": "markdown",
   "id": "willing-brother",
   "metadata": {},
   "source": [
    "We use the publicly available quantum computing library qiskit to define and modify quantum\n",
    "circuits in Python. This library is also capable of simulating quantum computing, both by\n",
    "calculating amplitudes analytically and by simulating shots. <br> <br>\n",
    "We use a custom EA implementation to perform a (1+4)-EA using a special multi-level mutation\n",
    "strategy, which we explain in the following paragraph. The optimization run starts with a minimal\n",
    "random circuit, consisting of only a single gate with a uniformly sampled parameter. From this\n",
    "initial parent circuit we make 4 copies and mutate them independently using our mutation strategy,\n",
    "which yields the offspring population. From the measurement results we derive a loss value, which we explain in detail\n",
    "in another paragraph further down this section. The entire population is then sorted by loss\n",
    "value, and the circuit with lowest loss becomes the new parent circuit for the next generation.\n",
    "This process is repeated for 150 generations, during which the parent’s loss value monotonically\n",
    "decreases, approaching the global optimum.\n"
   ]
  },
  {
   "cell_type": "code",
   "execution_count": null,
   "id": "coordinate-final",
   "metadata": {},
   "outputs": [],
   "source": []
  },
  {
   "cell_type": "code",
   "execution_count": null,
   "id": "freelance-negative",
   "metadata": {},
   "outputs": [],
   "source": []
  },
  {
   "cell_type": "markdown",
   "id": "rational-mongolia",
   "metadata": {},
   "source": [
    "Mutation strategy: <br> <br>\n",
    "The mutation strategy consists of a two-level random process. In a first\n",
    "step, we choose an action from a list of options. Then, we sample parameters for the chosen\n",
    "action and apply the changes directly to the circuit object. Possible actions (with their respective\n",
    "occurrence probabilities in parentheses) are: <br> <br>\n",
    "• INSERT (50%): Sample generator g and parameter theta uniformly and insert the corresponding\n",
    "gate at a random position. <br>\n",
    "• DELETE (10%): Delete gate at a random position from the circuit. <br>\n",
    "• SWAP (10%): Combination of Delete and Insert at the same randomly chosen position <br>\n",
    "• MODIFY (30%): Modify parameter of randomly chosen gate according to theta = theta+ \\\\( \\epsilon \\\\) with \\\\( \\epsilon \\approx N(0,0.01)\\\\).\n"
   ]
  },
  {
   "cell_type": "code",
   "execution_count": null,
   "id": "dental-switzerland",
   "metadata": {},
   "outputs": [],
   "source": []
  },
  {
   "cell_type": "markdown",
   "id": "minor-silicon",
   "metadata": {},
   "source": [
    "The difficulty to find the minimal eigenvalue to a Hamiltonian is intimately tied to the entanglement\n",
    "of its ground state. Intuitively, the more entanglement required the more intricate the optimization\n",
    "landscape is. Therefore, we are first interested in our algorithms capability to perform in these\n",
    "non-convex circumstances.\n",
    "To gradually\n",
    "raise difficulty we transition in three steps from a maximally local problem to a spin-glass model\n",
    "only consisting of non-local terms. This gives us a chance test our algorithms capability to\n",
    "optimize increasingly difficult problems.\n",
    "\n"
   ]
  },
  {
   "cell_type": "code",
   "execution_count": null,
   "id": "objective-gather",
   "metadata": {},
   "outputs": [],
   "source": []
  }
 ],
 "metadata": {
  "kernelspec": {
   "display_name": "Python 3",
   "language": "python",
   "name": "python3"
  },
  "language_info": {
   "codemirror_mode": {
    "name": "ipython",
    "version": 3
   },
   "file_extension": ".py",
   "mimetype": "text/x-python",
   "name": "python",
   "nbconvert_exporter": "python",
   "pygments_lexer": "ipython3",
   "version": "3.7.9"
  }
 },
 "nbformat": 4,
 "nbformat_minor": 5
}
